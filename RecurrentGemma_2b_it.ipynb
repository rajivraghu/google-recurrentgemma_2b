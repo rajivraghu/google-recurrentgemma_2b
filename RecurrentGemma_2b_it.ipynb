{
  "nbformat": 4,
  "nbformat_minor": 0,
  "metadata": {
    "colab": {
      "provenance": [],
      "gpuType": "V100"
    },
    "kernelspec": {
      "name": "python3",
      "display_name": "Python 3"
    },
    "language_info": {
      "name": "python"
    },
    "accelerator": "GPU"
  },
  "cells": [
    {
      "cell_type": "code",
      "source": [
        "!pip install --upgrade git+https://github.com/huggingface/transformers.git accelerate"
      ],
      "metadata": {
        "id": "A58LZqIs8c15"
      },
      "execution_count": null,
      "outputs": []
    },
    {
      "cell_type": "code",
      "source": [
        "from huggingface_hub import notebook_login\n",
        "notebook_login()"
      ],
      "metadata": {
        "id": "mj2ubfsC8dFN"
      },
      "execution_count": null,
      "outputs": []
    },
    {
      "cell_type": "code",
      "source": [
        "\n",
        "from transformers import AutoTokenizer, AutoModelForCausalLM\n",
        "tokenizer = AutoTokenizer.from_pretrained(\"google/recurrentgemma-2b-it\")\n",
        "model = AutoModelForCausalLM.from_pretrained(\"google/recurrentgemma-2b-it\", device_map=\"auto\",torch_dtype=\"auto\")"
      ],
      "metadata": {
        "id": "l78AYLGR8dOy"
      },
      "execution_count": null,
      "outputs": []
    },
    {
      "cell_type": "code",
      "source": [
        "chat = [\n",
        "{\"role\": \"user\", \"content\": \"Give me an example of Java -8 Consumer lamda expression and explain\"}\n",
        "]\n",
        "prompt = tokenizer.apply_chat_template(chat, tokenize=False, add_generation_prompt=True)\n"
      ],
      "metadata": {
        "id": "vb-AhmwS9tpf"
      },
      "execution_count": 7,
      "outputs": []
    },
    {
      "cell_type": "code",
      "source": [
        "inputs = tokenizer(prompt, return_tensors=\"pt\").to(model.device)\n",
        "prompt_len = inputs[\"input_ids\"].shape[-1]\n",
        "outputs = model.generate( ** inputs, max_new_tokens=512)\n",
        "print(tokenizer.decode(outputs[0][prompt_len:]))"
      ],
      "metadata": {
        "id": "dhBVhYLZ930I"
      },
      "execution_count": null,
      "outputs": []
    },
    {
      "cell_type": "code",
      "source": [],
      "metadata": {
        "id": "OylY7h2Q-mP4"
      },
      "execution_count": null,
      "outputs": []
    }
  ]
}